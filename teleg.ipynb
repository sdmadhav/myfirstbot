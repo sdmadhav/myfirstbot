{
 "cells": [
  {
   "cell_type": "code",
   "execution_count": 1,
   "metadata": {},
   "outputs": [
    {
     "name": "stdout",
     "output_type": "stream",
     "text": [
      "{\"ok\":true,\"result\":[{\"update_id\":425025108,\n",
      "\"message\":{\"message_id\":136,\"from\":{\"id\":914785213,\"is_bot\":false,\"first_name\":\"NOYB\",\"username\":\"sdmadhav13\",\"language_code\":\"en\"},\"chat\":{\"id\":914785213,\"first_name\":\"NOYB\",\"username\":\"sdmadhav13\",\"type\":\"private\"},\"date\":1670431287,\"text\":\"/start\",\"entities\":[{\"offset\":0,\"length\":6,\"type\":\"bot_command\"}]}}]}\n"
     ]
    }
   ],
   "source": [
    "import requests\n",
    "\n",
    "#reference url :https://core.telegram.org/bots/api#sendmessage\n",
    "base_url=\"https://api.telegram.org/bot1431989781:AAGo5JKThqlQV7Lm1QJfboDB_eJdKFcMa6s/getupdates\"\n",
    "parameters={\n",
    "    \"offset\":\"425025108\",\n",
    "    \"limit\":\"1\"\n",
    "    }\n",
    "r=requests.get(base_url,data=parameters)\n",
    "print(r.text)\n"
   ]
  },
  {
   "cell_type": "code",
   "execution_count": 2,
   "metadata": {},
   "outputs": [
    {
     "name": "stdout",
     "output_type": "stream",
     "text": [
      "{\"ok\":true,\"result\":{\"message_id\":5822,\"from\":{\"id\":1431989781,\"is_bot\":true,\"first_name\":\"Dear friend\",\"username\":\"Msg_from_bot\"},\"chat\":{\"id\":-1001577823032,\"title\":\"4000+ movies\",\"type\":\"supergroup\"},\"date\":1670432955,\"text\":\"Hi this is from your bot.\",\"has_protected_content\":true}}\n"
     ]
    }
   ],
   "source": [
    "\n",
    "import requests\n",
    "\n",
    "#reference url :https://core.telegram.org/bots/api#sendmessage\n",
    "base_url=\"https://api.telegram.org/bot1431989781:AAGo5JKThqlQV7Lm1QJfboDB_eJdKFcMa6s/sendMessage\"\n",
    "parameters={\n",
    "    \"chat_id\":\"-1001577823032\",\n",
    "    \"text\":\"Hi this is from your bot.\"\n",
    "    }\n",
    "r=requests.get(base_url,data=parameters)\n",
    "print(r.text)\n",
    "\n"
   ]
  },
  {
   "cell_type": "code",
   "execution_count": 4,
   "metadata": {},
   "outputs": [
    {
     "name": "stdout",
     "output_type": "stream",
     "text": [
      "{\"ok\":true,\"result\":{\"message_id\":137,\"from\":{\"id\":1431989781,\"is_bot\":true,\"first_name\":\"Dear friend\",\"username\":\"Msg_from_bot\"},\"chat\":{\"id\":914785213,\"first_name\":\"NOYB\",\"username\":\"sdmadhav13\",\"type\":\"private\"},\"date\":1670433592,\"photo\":[{\"file_id\":\"AgACAgQAAxkDAAOJY5DLOKzbkt0r9gltIgGv-dUN1vkAAtisMRsB-yxR3gt0f0jM3nABAAMCAANzAAMrBA\",\"file_unique_id\":\"AQAD2KwxGwH7LFF4\",\"file_size\":1498,\"width\":60,\"height\":90},{\"file_id\":\"AgACAgQAAxkDAAOJY5DLOKzbkt0r9gltIgGv-dUN1vkAAtisMRsB-yxR3gt0f0jM3nABAAMCAANtAAMrBA\",\"file_unique_id\":\"AQAD2KwxGwH7LFFy\",\"file_size\":18881,\"width\":213,\"height\":320},{\"file_id\":\"AgACAgQAAxkDAAOJY5DLOKzbkt0r9gltIgGv-dUN1vkAAtisMRsB-yxR3gt0f0jM3nABAAMCAAN4AAMrBA\",\"file_unique_id\":\"AQAD2KwxGwH7LFF9\",\"file_size\":21768,\"width\":300,\"height\":450}],\"caption\":\"\\\"Title\\\":\\\"A Aa\\\",\\n\\\"Year\\\":\\\"2016\\\",\\n\\\"Rated\\\":\\\"N/A\\\",\\n\\\"Released\\\":\\\"03 Jun 2016\\\",\\n\\\"Runtime\\\":\\\"152 min\\\",\\n\\\"Genre\\\":\\\"Comedy, Drama, Romance\\\"\"}}\n"
     ]
    }
   ],
   "source": [
    "\n",
    "import requests\n",
    "\n",
    "#reference url :https://core.telegram.org/bots/api#sendmessage\n",
    "base_url=\"https://api.telegram.org/bot1431989781:AAGo5JKThqlQV7Lm1QJfboDB_eJdKFcMa6s/sendPhoto\"\n",
    "parameters={\n",
    "    \"chat_id\":\"914785213\",\n",
    "    \"photo\":\"https://m.media-amazon.com/images/M/MV5BMzFjZTVhODktNGE0Ni00MGZmLTk1M2QtZGQyZDU4Mzc1ZTYxXkEyXkFqcGdeQXVyMTA4NjE0NjEy._V1_SX300.jpg\",\n",
    "    \"caption\":'''\"Title\":\"A Aa\",\\n\"Year\":\"2016\",\\n\"Rated\":\"N/A\",\\n\"Released\":\"03 Jun 2016\",\\n\"Runtime\":\"152 min\",\\n\"Genre\":\"Comedy, Drama, Romance\"'''\n",
    "    }\n",
    "r=requests.get(base_url,data=parameters)\n",
    "print(r.text)\n",
    "\n"
   ]
  },
  {
   "cell_type": "code",
   "execution_count": null,
   "metadata": {},
   "outputs": [],
   "source": []
  }
 ],
 "metadata": {
  "kernelspec": {
   "display_name": "Python 3.9.6 64-bit",
   "language": "python",
   "name": "python3"
  },
  "language_info": {
   "codemirror_mode": {
    "name": "ipython",
    "version": 3
   },
   "file_extension": ".py",
   "mimetype": "text/x-python",
   "name": "python",
   "nbconvert_exporter": "python",
   "pygments_lexer": "ipython3",
   "version": "3.9.6"
  },
  "orig_nbformat": 4,
  "vscode": {
   "interpreter": {
    "hash": "3fbde4df949752d309ba02bf44d5dbdd6bf2cecb866d81b5868de709678e5d5d"
   }
  }
 },
 "nbformat": 4,
 "nbformat_minor": 2
}
